{
 "cells": [
  {
   "cell_type": "markdown",
   "metadata": {},
   "source": [
    "# Search Terms Analysis"
   ]
  },
  {
   "cell_type": "markdown",
   "metadata": {},
   "source": [
    "*Neal Xie*"
   ]
  },
  {
   "cell_type": "markdown",
   "metadata": {},
   "source": [
    "Marketing is inherently analytic. Field-testing marketing  outreach and marketing performance is key to optimizing budget allocaion and market reach. Search marketing is no different, and since keywords dictate our entire search campaign, **Keyword Analysis** should be your primary focus.\n",
    "\n",
    "This analysis uses Diageo - Smirnoff brand data camparing with May 2017 and Nov 2017 to show case that how to transfer keyword data to topic level and make optimizations."
   ]
  },
  {
   "cell_type": "code",
   "execution_count": 27,
   "metadata": {},
   "outputs": [],
   "source": [
    "# Import everything I am going to need up front\n",
    "import numpy as np\n",
    "import pandas as pd\n",
    "import nltk\n",
    "import re\n",
    "import os\n",
    "import codecs\n",
    "from sklearn import feature_extraction\n",
    "import mpld3\n",
    "from sklearn.feature_extraction.text import CountVectorizer\n",
    "from sklearn.feature_extraction.text import TfidfVectorizer\n",
    "from sklearn.cluster import KMeans\n",
    "from sklearn.externals import joblib"
   ]
  },
  {
   "cell_type": "code",
   "execution_count": 3,
   "metadata": {
    "collapsed": true
   },
   "outputs": [],
   "source": [
    "# Get csv file for search term report\n",
    "search_term = pd.read_csv('C:/_Project/Diageo_Search/Search_term_report_last30.csv', sep = \"\\t\")"
   ]
  },
  {
   "cell_type": "code",
   "execution_count": 4,
   "metadata": {},
   "outputs": [
    {
     "data": {
      "text/html": [
       "<div>\n",
       "<table border=\"1\" class=\"dataframe\">\n",
       "  <thead>\n",
       "    <tr style=\"text-align: right;\">\n",
       "      <th></th>\n",
       "      <th>Match type</th>\n",
       "      <th>Search term</th>\n",
       "      <th>Added/Excluded</th>\n",
       "      <th>Campaign</th>\n",
       "      <th>Ad group</th>\n",
       "      <th>Keyword</th>\n",
       "      <th>Clicks</th>\n",
       "      <th>Impressions</th>\n",
       "      <th>CTR</th>\n",
       "      <th>Avg. CPC</th>\n",
       "      <th>Cost</th>\n",
       "      <th>Avg. position</th>\n",
       "    </tr>\n",
       "  </thead>\n",
       "  <tbody>\n",
       "    <tr>\n",
       "      <th>0</th>\n",
       "      <td>exact (close variant)</td>\n",
       "      <td>pineapple cocktails with vodka</td>\n",
       "      <td>None</td>\n",
       "      <td>C: Pineapple</td>\n",
       "      <td>Pineapple</td>\n",
       "      <td>[pineapple vodka cocktail]</td>\n",
       "      <td>0</td>\n",
       "      <td>1</td>\n",
       "      <td>0.00%</td>\n",
       "      <td>0.00</td>\n",
       "      <td>0</td>\n",
       "      <td>1.0</td>\n",
       "    </tr>\n",
       "    <tr>\n",
       "      <th>1</th>\n",
       "      <td>exact (close variant)</td>\n",
       "      <td>white rushin</td>\n",
       "      <td>None</td>\n",
       "      <td>R: White Russian</td>\n",
       "      <td>White Russian</td>\n",
       "      <td>[white russian]</td>\n",
       "      <td>2</td>\n",
       "      <td>9</td>\n",
       "      <td>22.22%</td>\n",
       "      <td>0.42</td>\n",
       "      <td>0.84</td>\n",
       "      <td>1.1</td>\n",
       "    </tr>\n",
       "    <tr>\n",
       "      <th>2</th>\n",
       "      <td>exact (close variant)</td>\n",
       "      <td>thanks giving cocotial</td>\n",
       "      <td>None</td>\n",
       "      <td>L: Thanksgiving</td>\n",
       "      <td>Thanksgiving Cocktail - Exact</td>\n",
       "      <td>[thanksgiving cocktail]</td>\n",
       "      <td>1</td>\n",
       "      <td>1</td>\n",
       "      <td>100.00%</td>\n",
       "      <td>1.57</td>\n",
       "      <td>1.57</td>\n",
       "      <td>2.0</td>\n",
       "    </tr>\n",
       "    <tr>\n",
       "      <th>3</th>\n",
       "      <td>exact (close variant)</td>\n",
       "      <td>alcoholic thanksgiving drink</td>\n",
       "      <td>None</td>\n",
       "      <td>L: Thanksgiving</td>\n",
       "      <td>Thanksgiving-Drink</td>\n",
       "      <td>[thanksgiving alcoholic drink]</td>\n",
       "      <td>2</td>\n",
       "      <td>12</td>\n",
       "      <td>16.67%</td>\n",
       "      <td>3.13</td>\n",
       "      <td>6.26</td>\n",
       "      <td>1.3</td>\n",
       "    </tr>\n",
       "    <tr>\n",
       "      <th>4</th>\n",
       "      <td>exact</td>\n",
       "      <td>spiked punch for thanksgiving</td>\n",
       "      <td>Added</td>\n",
       "      <td>L: Thanksgiving</td>\n",
       "      <td>Thanksgiving-Punch</td>\n",
       "      <td>[spiked punch for thanksgiving]</td>\n",
       "      <td>1</td>\n",
       "      <td>1</td>\n",
       "      <td>100.00%</td>\n",
       "      <td>0.38</td>\n",
       "      <td>0.38</td>\n",
       "      <td>1.0</td>\n",
       "    </tr>\n",
       "  </tbody>\n",
       "</table>\n",
       "</div>"
      ],
      "text/plain": [
       "              Match type                     Search term Added/Excluded  \\\n",
       "0  exact (close variant)  pineapple cocktails with vodka           None   \n",
       "1  exact (close variant)                    white rushin           None   \n",
       "2  exact (close variant)          thanks giving cocotial           None   \n",
       "3  exact (close variant)    alcoholic thanksgiving drink           None   \n",
       "4                  exact   spiked punch for thanksgiving          Added   \n",
       "\n",
       "           Campaign                       Ad group  \\\n",
       "0      C: Pineapple                      Pineapple   \n",
       "1  R: White Russian                  White Russian   \n",
       "2   L: Thanksgiving  Thanksgiving Cocktail - Exact   \n",
       "3   L: Thanksgiving             Thanksgiving-Drink   \n",
       "4   L: Thanksgiving             Thanksgiving-Punch   \n",
       "\n",
       "                           Keyword  Clicks  Impressions      CTR  Avg. CPC  \\\n",
       "0       [pineapple vodka cocktail]       0            1    0.00%      0.00   \n",
       "1                  [white russian]       2            9   22.22%      0.42   \n",
       "2          [thanksgiving cocktail]       1            1  100.00%      1.57   \n",
       "3   [thanksgiving alcoholic drink]       2           12   16.67%      3.13   \n",
       "4  [spiked punch for thanksgiving]       1            1  100.00%      0.38   \n",
       "\n",
       "   Cost  Avg. position  \n",
       "0     0            1.0  \n",
       "1  0.84            1.1  \n",
       "2  1.57            2.0  \n",
       "3  6.26            1.3  \n",
       "4  0.38            1.0  "
      ]
     },
     "execution_count": 4,
     "metadata": {},
     "output_type": "execute_result"
    }
   ],
   "source": [
    "# Take a look at first 5 rows\n",
    "search_term.head()"
   ]
  },
  {
   "cell_type": "code",
   "execution_count": 7,
   "metadata": {},
   "outputs": [
    {
     "data": {
      "text/plain": [
       "Match type         object\n",
       "Search term        object\n",
       "Added/Excluded     object\n",
       "Campaign           object\n",
       "Ad group           object\n",
       "Keyword            object\n",
       "Clicks              int64\n",
       "Impressions         int64\n",
       "CTR                object\n",
       "Avg. CPC          float64\n",
       "Cost              float64\n",
       "Avg. position     float64\n",
       "dtype: object"
      ]
     },
     "execution_count": 7,
     "metadata": {},
     "output_type": "execute_result"
    }
   ],
   "source": [
    "# Take a look at data types\n",
    "search_term.dtypes"
   ]
  },
  {
   "cell_type": "code",
   "execution_count": 6,
   "metadata": {
    "collapsed": true
   },
   "outputs": [],
   "source": [
    "# Change Cost from object to float and clean it\n",
    "search_term['Cost'] = search_term['Cost'].str.replace(',','').astype(np.float64)"
   ]
  },
  {
   "cell_type": "code",
   "execution_count": 8,
   "metadata": {
    "collapsed": true
   },
   "outputs": [],
   "source": [
    "# Creative a list of search term\n",
    "search_term_list = list(search_term['Search term'])"
   ]
  },
  {
   "cell_type": "code",
   "execution_count": 9,
   "metadata": {},
   "outputs": [
    {
     "data": {
      "text/plain": [
       "['pineapple cocktails with vodka',\n",
       " 'white rushin',\n",
       " 'thanks giving cocotial',\n",
       " 'alcoholic thanksgiving drink',\n",
       " 'spiked punch for thanksgiving',\n",
       " 'spiked punch for thanksgiving',\n",
       " 'what drinks can you make with blueberry vodka',\n",
       " 'smirnoff peppermint bark martini',\n",
       " 'white russisns',\n",
       " 'how to make a dirt martini']"
      ]
     },
     "execution_count": 9,
     "metadata": {},
     "output_type": "execute_result"
    }
   ],
   "source": [
    "# Take a look at first 10 rows of search term list\n",
    "search_term_list[:10]"
   ]
  },
  {
   "cell_type": "code",
   "execution_count": 10,
   "metadata": {
    "collapsed": true
   },
   "outputs": [],
   "source": [
    "# Load nltk's English stopwords as variable called 'stopwords'\n",
    "stopwords = nltk.corpus.stopwords.words('english')"
   ]
  },
  {
   "cell_type": "code",
   "execution_count": 11,
   "metadata": {},
   "outputs": [
    {
     "data": {
      "text/plain": [
       "['i', 'me', 'my', 'myself', 'we', 'our', 'ours', 'ourselves', 'you', 'your']"
      ]
     },
     "execution_count": 11,
     "metadata": {},
     "output_type": "execute_result"
    }
   ],
   "source": [
    "# Print 10 stopwords\n",
    "stopwords[:10]"
   ]
  },
  {
   "cell_type": "code",
   "execution_count": 12,
   "metadata": {
    "collapsed": true
   },
   "outputs": [],
   "source": [
    "# Here I define a tokenizer which returns the set of stems in the text that is is passed\n",
    "def tokenize_only(text):\n",
    "    # First tokenize by sentence, then by word to ensure that punctuation is caught as it's own token\n",
    "    tokens = [word.lower() for sent in nltk.sent_tokenize(text) for word in nltk.word_tokenize(sent)]\n",
    "    filtered_tokens = []\n",
    "    # Filter out any tokens not containing letters (e.g., numeric tokens, raw punctiation)\n",
    "    for token in tokens:\n",
    "        if re.search('[a-zA-Z]', token):\n",
    "            filtered_tokens.append(token)\n",
    "    return filtered_tokens"
   ]
  },
  {
   "cell_type": "code",
   "execution_count": 13,
   "metadata": {
    "collapsed": true
   },
   "outputs": [],
   "source": [
    "# Use extend so it's a big flat list of vacab\n",
    "totalvocab_tokenized = []\n",
    "for i in search_term_list:\n",
    "    allwords_tokenized = tokenize_only(i) # For each item in 'search_term_list', tokenized\n",
    "    totalvocab_tokenized.extend(allwords_tokenized) # Extend the 'totalvocab_tokenized' list"
   ]
  },
  {
   "cell_type": "code",
   "execution_count": 17,
   "metadata": {},
   "outputs": [
    {
     "data": {
      "text/plain": [
       "['pineapple',\n",
       " 'cocktails',\n",
       " 'with',\n",
       " 'vodka',\n",
       " 'white',\n",
       " 'rushin',\n",
       " 'thanks',\n",
       " 'giving',\n",
       " 'cocotial',\n",
       " 'alcoholic']"
      ]
     },
     "execution_count": 17,
     "metadata": {},
     "output_type": "execute_result"
    }
   ],
   "source": [
    "# Take a look at first 10 rows of totalvocab_tokenized\n",
    "totalvocab_tokenized[:10]"
   ]
  },
  {
   "cell_type": "code",
   "execution_count": 18,
   "metadata": {},
   "outputs": [
    {
     "name": "stdout",
     "output_type": "stream",
     "text": [
      "Wall time: 1.43 s\n",
      "Wall time: 1.34 s\n"
     ]
    },
    {
     "data": {
      "text/plain": [
       "(8571, 2051)"
      ]
     },
     "execution_count": 18,
     "metadata": {},
     "output_type": "execute_result"
    }
   ],
   "source": [
    "# Create count and tf-idf vectorizer matrix\n",
    "# Define count vectorizer parameters\n",
    "count_vectorizer = CountVectorizer(max_df = 0.7,\n",
    "                                   min_df = 3,\n",
    "                                   max_features = None,\n",
    "                                   stop_words = 'english',\n",
    "                                   strip_accents = 'unicode',\n",
    "                                   analyzer = 'word',\n",
    "                                   tokenizer = tokenize_only,\n",
    "                                   ngram_range = (1,3)\n",
    "                                   )\n",
    "\n",
    "# Define tfidf vectorizer parameters\n",
    "tfidf_vectorizer = TfidfVectorizer(max_df = 0.7,\n",
    "                                   min_df = 3,\n",
    "                                   max_features = None,\n",
    "                                   stop_words = 'english',\n",
    "                                   strip_accents = 'unicode',\n",
    "                                   analyzer = 'word',\n",
    "                                   use_idf = True,\n",
    "                                   tokenizer = tokenize_only,\n",
    "                                   ngram_range = (1,3)\n",
    "                                  )\n",
    "\n",
    "%time tfidf_matrix = tfidf_vectorizer.fit_transform(search_term_list) # Fit the tfidf vectorizer to search term list\n",
    "%time count_matrix = count_vectorizer.fit_transform(search_term_list) # Fit the count vectorizer to search term list\n",
    "\n",
    "tfidf_matrix.shape\n",
    "count_matrix.shape"
   ]
  },
  {
   "cell_type": "code",
   "execution_count": 19,
   "metadata": {
    "collapsed": true
   },
   "outputs": [],
   "source": [
    "# Define a list of the feature used in the count matrix\n",
    "count = count_vectorizer.get_feature_names()"
   ]
  },
  {
   "cell_type": "code",
   "execution_count": 20,
   "metadata": {
    "collapsed": true
   },
   "outputs": [],
   "source": [
    "# Create a count dataframe with feature names\n",
    "count_df = pd.DataFrame(count_matrix.toarray(), columns=count)"
   ]
  },
  {
   "cell_type": "code",
   "execution_count": 21,
   "metadata": {},
   "outputs": [
    {
     "data": {
      "text/html": [
       "<div>\n",
       "<table border=\"1\" class=\"dataframe\">\n",
       "  <thead>\n",
       "    <tr style=\"text-align: right;\">\n",
       "      <th></th>\n",
       "      <th>'s</th>\n",
       "      <th>'s good</th>\n",
       "      <th>'s good mix</th>\n",
       "      <th>'s smirnoff</th>\n",
       "      <th>'s white</th>\n",
       "      <th>'s white russian</th>\n",
       "      <th>100proof</th>\n",
       "      <th>4th</th>\n",
       "      <th>4th july</th>\n",
       "      <th>50ml</th>\n",
       "      <th>...</th>\n",
       "      <th>wins</th>\n",
       "      <th>winter</th>\n",
       "      <th>winter cocktails</th>\n",
       "      <th>wirh</th>\n",
       "      <th>wjite</th>\n",
       "      <th>world</th>\n",
       "      <th>woth</th>\n",
       "      <th>www</th>\n",
       "      <th>www smirnoff</th>\n",
       "      <th>youtube</th>\n",
       "    </tr>\n",
       "  </thead>\n",
       "  <tbody>\n",
       "    <tr>\n",
       "      <th>0</th>\n",
       "      <td>0</td>\n",
       "      <td>0</td>\n",
       "      <td>0</td>\n",
       "      <td>0</td>\n",
       "      <td>0</td>\n",
       "      <td>0</td>\n",
       "      <td>0</td>\n",
       "      <td>0</td>\n",
       "      <td>0</td>\n",
       "      <td>0</td>\n",
       "      <td>...</td>\n",
       "      <td>0</td>\n",
       "      <td>0</td>\n",
       "      <td>0</td>\n",
       "      <td>0</td>\n",
       "      <td>0</td>\n",
       "      <td>0</td>\n",
       "      <td>0</td>\n",
       "      <td>0</td>\n",
       "      <td>0</td>\n",
       "      <td>0</td>\n",
       "    </tr>\n",
       "    <tr>\n",
       "      <th>1</th>\n",
       "      <td>0</td>\n",
       "      <td>0</td>\n",
       "      <td>0</td>\n",
       "      <td>0</td>\n",
       "      <td>0</td>\n",
       "      <td>0</td>\n",
       "      <td>0</td>\n",
       "      <td>0</td>\n",
       "      <td>0</td>\n",
       "      <td>0</td>\n",
       "      <td>...</td>\n",
       "      <td>0</td>\n",
       "      <td>0</td>\n",
       "      <td>0</td>\n",
       "      <td>0</td>\n",
       "      <td>0</td>\n",
       "      <td>0</td>\n",
       "      <td>0</td>\n",
       "      <td>0</td>\n",
       "      <td>0</td>\n",
       "      <td>0</td>\n",
       "    </tr>\n",
       "    <tr>\n",
       "      <th>2</th>\n",
       "      <td>0</td>\n",
       "      <td>0</td>\n",
       "      <td>0</td>\n",
       "      <td>0</td>\n",
       "      <td>0</td>\n",
       "      <td>0</td>\n",
       "      <td>0</td>\n",
       "      <td>0</td>\n",
       "      <td>0</td>\n",
       "      <td>0</td>\n",
       "      <td>...</td>\n",
       "      <td>0</td>\n",
       "      <td>0</td>\n",
       "      <td>0</td>\n",
       "      <td>0</td>\n",
       "      <td>0</td>\n",
       "      <td>0</td>\n",
       "      <td>0</td>\n",
       "      <td>0</td>\n",
       "      <td>0</td>\n",
       "      <td>0</td>\n",
       "    </tr>\n",
       "    <tr>\n",
       "      <th>3</th>\n",
       "      <td>0</td>\n",
       "      <td>0</td>\n",
       "      <td>0</td>\n",
       "      <td>0</td>\n",
       "      <td>0</td>\n",
       "      <td>0</td>\n",
       "      <td>0</td>\n",
       "      <td>0</td>\n",
       "      <td>0</td>\n",
       "      <td>0</td>\n",
       "      <td>...</td>\n",
       "      <td>0</td>\n",
       "      <td>0</td>\n",
       "      <td>0</td>\n",
       "      <td>0</td>\n",
       "      <td>0</td>\n",
       "      <td>0</td>\n",
       "      <td>0</td>\n",
       "      <td>0</td>\n",
       "      <td>0</td>\n",
       "      <td>0</td>\n",
       "    </tr>\n",
       "    <tr>\n",
       "      <th>4</th>\n",
       "      <td>0</td>\n",
       "      <td>0</td>\n",
       "      <td>0</td>\n",
       "      <td>0</td>\n",
       "      <td>0</td>\n",
       "      <td>0</td>\n",
       "      <td>0</td>\n",
       "      <td>0</td>\n",
       "      <td>0</td>\n",
       "      <td>0</td>\n",
       "      <td>...</td>\n",
       "      <td>0</td>\n",
       "      <td>0</td>\n",
       "      <td>0</td>\n",
       "      <td>0</td>\n",
       "      <td>0</td>\n",
       "      <td>0</td>\n",
       "      <td>0</td>\n",
       "      <td>0</td>\n",
       "      <td>0</td>\n",
       "      <td>0</td>\n",
       "    </tr>\n",
       "  </tbody>\n",
       "</table>\n",
       "<p>5 rows × 2051 columns</p>\n",
       "</div>"
      ],
      "text/plain": [
       "   's  's good  's good mix  's smirnoff  's white  's white russian  \\\n",
       "0   0        0            0            0         0                 0   \n",
       "1   0        0            0            0         0                 0   \n",
       "2   0        0            0            0         0                 0   \n",
       "3   0        0            0            0         0                 0   \n",
       "4   0        0            0            0         0                 0   \n",
       "\n",
       "   100proof  4th  4th july  50ml   ...     wins  winter  winter cocktails  \\\n",
       "0         0    0         0     0   ...        0       0                 0   \n",
       "1         0    0         0     0   ...        0       0                 0   \n",
       "2         0    0         0     0   ...        0       0                 0   \n",
       "3         0    0         0     0   ...        0       0                 0   \n",
       "4         0    0         0     0   ...        0       0                 0   \n",
       "\n",
       "   wirh  wjite  world  woth  www  www smirnoff  youtube  \n",
       "0     0      0      0     0    0             0        0  \n",
       "1     0      0      0     0    0             0        0  \n",
       "2     0      0      0     0    0             0        0  \n",
       "3     0      0      0     0    0             0        0  \n",
       "4     0      0      0     0    0             0        0  \n",
       "\n",
       "[5 rows x 2051 columns]"
      ]
     },
     "execution_count": 21,
     "metadata": {},
     "output_type": "execute_result"
    }
   ],
   "source": [
    "# Take a look at first 5 rows of count_df\n",
    "count_df.head(5)"
   ]
  },
  {
   "cell_type": "code",
   "execution_count": 22,
   "metadata": {},
   "outputs": [
    {
     "data": {
      "text/plain": [
       "smirnoff                     3066\n",
       "vodka                        2664\n",
       "drinks                        687\n",
       "drink                         644\n",
       "thanksgiving                  557\n",
       "recipe                        546\n",
       "peppermint                    527\n",
       "recipes                       523\n",
       "martini                       458\n",
       "make                          447\n",
       "white                         411\n",
       "caramel                       401\n",
       "mix                           344\n",
       "russian                       287\n",
       "apple                         284\n",
       "cocktail                      283\n",
       "watermelon                    277\n",
       "caramel vodka                 263\n",
       "cocktails                     251\n",
       "raspberry                     244\n",
       "vanilla                       238\n",
       "white russian                 220\n",
       "strawberry                    216\n",
       "smirnoff peppermint           206\n",
       "mule                          201\n",
       "peppermint vodka              199\n",
       "punch                         183\n",
       "vanilla vodka                 181\n",
       "good                          179\n",
       "green                         177\n",
       "                             ... \n",
       "mixed drink vodka               3\n",
       "msrtini                         3\n",
       "moscato                         3\n",
       "msmirnoff                       3\n",
       "mske white                      3\n",
       "mosxow                          3\n",
       "mosvow mule                     3\n",
       "mosvow                          3\n",
       "mosow                           3\n",
       "moscowl mule                    3\n",
       "moscowl                         3\n",
       "moscow myle                     3\n",
       "moscow muel                     3\n",
       "moscow mile                     3\n",
       "water melon                     3\n",
       "modcow mule                     3\n",
       "mixed drinks recipes            3\n",
       "moacow mule                     3\n",
       "ml                              3\n",
       "mixture                         3\n",
       "mixes watermelon                3\n",
       "mixes smirnoff                  3\n",
       "mixes peppermint vodka          3\n",
       "mixers vanilla                  3\n",
       "mixers smirnoff                 3\n",
       "mixer smirnoff peppermint       3\n",
       "mixer peppermint vodka          3\n",
       "mixer peppermint                3\n",
       "mixed drinks using              3\n",
       "youtube                         3\n",
       "dtype: int64"
      ]
     },
     "execution_count": 22,
     "metadata": {},
     "output_type": "execute_result"
    }
   ],
   "source": [
    "# Sum tokens based on count and sort ascending\n",
    "count_df.sum(0).sort_values(ascending=False)"
   ]
  },
  {
   "cell_type": "code",
   "execution_count": 23,
   "metadata": {
    "collapsed": true
   },
   "outputs": [],
   "source": [
    "# Define a list of features used in the tf-idf matrix\n",
    "terms = tfidf_vectorizer.get_feature_names()"
   ]
  },
  {
   "cell_type": "code",
   "execution_count": 26,
   "metadata": {},
   "outputs": [
    {
     "name": "stdout",
     "output_type": "stream",
     "text": [
      "Wall time: 4.36 s\n"
     ]
    }
   ],
   "source": [
    "# K-means clustering\n",
    "num_clusters = 12 # Number of clusters\n",
    "\n",
    "km = KMeans(n_clusters = num_clusters) # Initial model\n",
    "\n",
    "%time km.fit(tfidf_matrix) # Fit model\n",
    "\n",
    "clusters = km.labels_.tolist() # Create cluster list"
   ]
  },
  {
   "cell_type": "code",
   "execution_count": null,
   "metadata": {
    "collapsed": true
   },
   "outputs": [],
   "source": [
    "# Save your model to pickle file\n",
    "joblib.dmp(km, 'doc_cluster.pkl')\n",
    "\n",
    "# Load your model from the pickle\n",
    "km = joblib.load('doc_cluster.pkl')"
   ]
  },
  {
   "cell_type": "code",
   "execution_count": 28,
   "metadata": {},
   "outputs": [
    {
     "name": "stdout",
     "output_type": "stream",
     "text": [
      "Top terms per cluster:\n",
      "\n",
      "Cluster 0 words: peppermint,\n",
      " smirnoff peppermint,\n",
      " peppermint vodka,\n",
      " smirnoff,\n",
      " peppermint twist,\n",
      " twist,\n",
      " peppermint smirnoff,\n",
      " vodka,\n",
      " smirnoff peppermint twist,\n",
      " smirnoff peppermint vodka,\n",
      " mix,\n",
      " mix peppermint,\n",
      "\n",
      "\n",
      "Cluster 0 Search term: pineapple cocktails with vodka,\n",
      " white rushin,\n",
      " thanks giving cocotial,\n",
      " alcoholic thanksgiving drink,\n",
      " spiked punch for thanksgiving,\n",
      " spiked punch for thanksgiving,\n",
      " what drinks can you make with blueberry vodka,\n",
      " smirnoff peppermint bark martini,\n",
      " white russisns,\n",
      " how to make a dirt martini,\n",
      " smirnfoff limited edition,\n",
      " boueberry vodka,\n",
      " how much alcohol smirnoff watermelon ice,\n",
      "\n",
      "\n",
      "Cluster 1 words: vodka,\n",
      " drinks,\n",
      " caramel,\n",
      " caramel vodka,\n",
      " vodka drinks,\n",
      " recipes,\n",
      " vanilla,\n",
      " vanilla vodka,\n",
      " vodka recipes,\n",
      " smirnoff vodka,\n",
      " smirnoff,\n",
      " mix,\n",
      "\n",
      "\n",
      "Cluster 1 Search term: white rushin,\n",
      " thanks giving cocotial,\n",
      " alcoholic thanksgiving drink,\n",
      " spiked punch for thanksgiving,\n",
      " spiked punch for thanksgiving,\n",
      " what drinks can you make with blueberry vodka,\n",
      " smirnoff peppermint bark martini,\n",
      " white russisns,\n",
      " how to make a dirt martini,\n",
      " smirnfoff limited edition,\n",
      " boueberry vodka,\n",
      " how much alcohol smirnoff watermelon ice,\n",
      "\n",
      "\n",
      "Cluster 2 words: smirnoff,\n",
      " vodka,\n",
      " youtube,\n",
      " jamaican,\n",
      " ideas thanksgiving,\n",
      " il,\n",
      " info,\n",
      " information,\n",
      " infused,\n",
      " ingredient,\n",
      " ingredients,\n",
      " ingredients cosmopolitan,\n",
      "\n",
      "\n",
      "Cluster 2 Search term: thanks giving cocotial,\n",
      " alcoholic thanksgiving drink,\n",
      " spiked punch for thanksgiving,\n",
      " spiked punch for thanksgiving,\n",
      " what drinks can you make with blueberry vodka,\n",
      " smirnoff peppermint bark martini,\n",
      " white russisns,\n",
      " how to make a dirt martini,\n",
      " smirnfoff limited edition,\n",
      " boueberry vodka,\n",
      " how much alcohol smirnoff watermelon ice,\n",
      "\n",
      "\n",
      "Cluster 3 words: punch,\n",
      " thanksgiving,\n",
      " thanksgiving punch,\n",
      " punch thanksgiving,\n",
      " punch recipes,\n",
      " punch recipe,\n",
      " recipe,\n",
      " alcoholic,\n",
      " recipes,\n",
      " recipes thanksgiving,\n",
      " alcoholic punch,\n",
      " recipe thanksgiving,\n",
      "\n",
      "\n",
      "Cluster 3 Search term: alcoholic thanksgiving drink,\n",
      " spiked punch for thanksgiving,\n",
      " spiked punch for thanksgiving,\n",
      " what drinks can you make with blueberry vodka,\n",
      " smirnoff peppermint bark martini,\n",
      " white russisns,\n",
      " how to make a dirt martini,\n",
      " smirnfoff limited edition,\n",
      " boueberry vodka,\n",
      " how much alcohol smirnoff watermelon ice,\n",
      "\n",
      "\n",
      "Cluster 4 words: make,\n",
      " drinks make,\n",
      " vodka,\n",
      " drinks,\n",
      " mary,\n",
      " martini,\n",
      " make white,\n",
      " make bloody,\n",
      " make martini,\n",
      " make cosmopolitan,\n",
      " make smirnoff,\n",
      " make peppermint,\n",
      "\n",
      "\n",
      "Cluster 4 Search term: spiked punch for thanksgiving,\n",
      " spiked punch for thanksgiving,\n",
      " what drinks can you make with blueberry vodka,\n",
      " smirnoff peppermint bark martini,\n",
      " white russisns,\n",
      " how to make a dirt martini,\n",
      " smirnfoff limited edition,\n",
      " boueberry vodka,\n",
      " how much alcohol smirnoff watermelon ice,\n",
      "\n",
      "\n",
      "Cluster 5 words: recipe,\n",
      " vodka recipe,\n",
      " vodka,\n",
      " martini,\n",
      " drink recipe,\n",
      " cosmopolitan,\n",
      " martini recipe,\n",
      " drink,\n",
      " white,\n",
      " bloody,\n",
      " recipe cosmopolitan,\n",
      " mary,\n",
      "\n",
      "\n",
      "Cluster 5 Search term: spiked punch for thanksgiving,\n",
      " what drinks can you make with blueberry vodka,\n",
      " smirnoff peppermint bark martini,\n",
      " white russisns,\n",
      " how to make a dirt martini,\n",
      " smirnfoff limited edition,\n",
      " boueberry vodka,\n",
      " how much alcohol smirnoff watermelon ice,\n",
      "\n",
      "\n",
      "Cluster 6 words: mule,\n",
      " moscow mule,\n",
      " moscow,\n",
      " mule recipe,\n",
      " recipe,\n",
      " recipe moscow mule,\n",
      " recipe moscow,\n",
      " recipes moscow mule,\n",
      " recipes moscow,\n",
      " mosow,\n",
      " mosxow,\n",
      " mosco,\n",
      "\n",
      "\n",
      "Cluster 6 Search term: what drinks can you make with blueberry vodka,\n",
      " smirnoff peppermint bark martini,\n",
      " white russisns,\n",
      " how to make a dirt martini,\n",
      " smirnfoff limited edition,\n",
      " boueberry vodka,\n",
      " how much alcohol smirnoff watermelon ice,\n",
      "\n",
      "\n",
      "Cluster 7 words: drink,\n",
      " vodka drink,\n",
      " vodka,\n",
      " drink recipes,\n",
      " recipes,\n",
      " thanksgiving,\n",
      " thanksgiving drink,\n",
      " drink vodka,\n",
      " mixed drink,\n",
      " mixed,\n",
      " cosmopolitan drink,\n",
      " cosmopolitan,\n",
      "\n",
      "\n",
      "Cluster 7 Search term: smirnoff peppermint bark martini,\n",
      " white russisns,\n",
      " how to make a dirt martini,\n",
      " smirnfoff limited edition,\n",
      " boueberry vodka,\n",
      " how much alcohol smirnoff watermelon ice,\n",
      "\n",
      "\n",
      "Cluster 8 words: smirnoff,\n",
      " watermelon,\n",
      " cocktail,\n",
      " raspberry,\n",
      " apple,\n",
      " strawberry,\n",
      " green,\n",
      " green apple,\n",
      " recipes,\n",
      " cosmopolitan,\n",
      " vodka,\n",
      " mix,\n",
      "\n",
      "\n",
      "Cluster 8 Search term: white russisns,\n",
      " how to make a dirt martini,\n",
      " smirnfoff limited edition,\n",
      " boueberry vodka,\n",
      " how much alcohol smirnoff watermelon ice,\n",
      "\n",
      "\n",
      "Cluster 9 words: thanksgiving,\n",
      " cocktails,\n",
      " cocktail,\n",
      " thanksgiving cocktails,\n",
      " drinks,\n",
      " thanksgiving cocktail,\n",
      " cocktails thanksgiving,\n",
      " thanksgiving drinks,\n",
      " cocktail thanksgiving,\n",
      " best,\n",
      " alcoholic,\n",
      " drinks thanksgiving,\n",
      "\n",
      "\n",
      "Cluster 9 Search term: how to make a dirt martini,\n",
      " smirnfoff limited edition,\n",
      " boueberry vodka,\n",
      " how much alcohol smirnoff watermelon ice,\n",
      "\n",
      "\n",
      "Cluster 10 words: white,\n",
      " russian,\n",
      " white russian,\n",
      " make white russian,\n",
      " white russian drink,\n",
      " russian drink,\n",
      " make white,\n",
      " make,\n",
      " recipe,\n",
      " drink,\n",
      " recipe white russian,\n",
      " recipe white,\n",
      "\n",
      "\n",
      "Cluster 10 Search term: smirnfoff limited edition,\n",
      " boueberry vodka,\n",
      " how much alcohol smirnoff watermelon ice,\n",
      "\n",
      "\n",
      "Cluster 11 words: martini,\n",
      " drop martini,\n",
      " drop,\n",
      " dirty martini,\n",
      " dirty,\n",
      " apple martini,\n",
      " caramel,\n",
      " blueberry,\n",
      " blueberry martini,\n",
      " making,\n",
      " pomegranate,\n",
      " apple,\n",
      "\n",
      "\n",
      "Cluster 11 Search term: boueberry vodka,\n",
      " how much alcohol smirnoff watermelon ice,\n",
      "\n",
      "\n",
      "\n",
      "\n"
     ]
    }
   ],
   "source": [
    "# Print all clusters associated with thier search terms\n",
    "from __future__ import print_function\n",
    "\n",
    "print(\"Top terms per cluster:\")\n",
    "print()\n",
    "# sort cluster centers by proximity to centroid\n",
    "order_centroids = km.cluster_centers_.argsort()[:, ::-1]\n",
    "\n",
    "for i in range(num_clusters):\n",
    "    print(\"Cluster %d words:\" % i, end='')\n",
    "    \n",
    "    for ind in order_centroids[i, :12]: # replace 12 with n words per cluster\n",
    "        print(' %s' % terms[ind], end=',')\n",
    "        print()\n",
    "    print() # add whitespace\n",
    "    print() # add whitespace\n",
    "    \n",
    "    print(\"Cluster %d Search term:\" % i, end='')\n",
    "    for term in search_term.ix[i:12]['Search term']:\n",
    "        print(' %s,' % term, end='')\n",
    "        print()\n",
    "    print() #add whitespace\n",
    "    print() #add whitespace\n",
    "\n",
    "print()\n",
    "print()"
   ]
  },
  {
   "cell_type": "code",
   "execution_count": 29,
   "metadata": {
    "collapsed": true
   },
   "outputs": [],
   "source": [
    "# Add cluster column to search_term table\n",
    "search_term['Cluster'] = clusters"
   ]
  },
  {
   "cell_type": "code",
   "execution_count": 30,
   "metadata": {},
   "outputs": [
    {
     "data": {
      "text/plain": [
       "8     3461\n",
       "1     1637\n",
       "0      477\n",
       "2      457\n",
       "9      441\n",
       "7      439\n",
       "4      392\n",
       "5      389\n",
       "10     311\n",
       "11     210\n",
       "6      183\n",
       "3      174\n",
       "Name: Cluster, dtype: int64"
      ]
     },
     "execution_count": 30,
     "metadata": {},
     "output_type": "execute_result"
    }
   ],
   "source": [
    "# Print search terms count group by clusters\n",
    "search_term['Cluster'].value_counts()"
   ]
  },
  {
   "cell_type": "code",
   "execution_count": 33,
   "metadata": {},
   "outputs": [
    {
     "data": {
      "text/plain": [
       "Cluster\n",
       "0      14349\n",
       "1     141008\n",
       "2      68639\n",
       "3      17552\n",
       "4      16076\n",
       "5      63437\n",
       "6     150499\n",
       "7      41992\n",
       "8     117591\n",
       "9     104724\n",
       "10    118199\n",
       "11     20120\n",
       "Name: Impressions, dtype: int64"
      ]
     },
     "execution_count": 33,
     "metadata": {},
     "output_type": "execute_result"
    }
   ],
   "source": [
    "# Print impressions group by clusters\n",
    "grouped_impressions = search_term['Impressions'].groupby(search_term['Cluster']) # Group by cluster for aggregation purposes\n",
    "grouped_impressions.sum() # Sum impressions per cluster"
   ]
  },
  {
   "cell_type": "code",
   "execution_count": 34,
   "metadata": {},
   "outputs": [
    {
     "data": {
      "text/plain": [
       "Cluster\n",
       "0      30.081761\n",
       "1      86.138057\n",
       "2     150.194748\n",
       "3     100.873563\n",
       "4      41.010204\n",
       "5     163.077121\n",
       "6     822.398907\n",
       "7      95.653759\n",
       "8      33.976018\n",
       "9     237.469388\n",
       "10    380.061093\n",
       "11     95.809524\n",
       "Name: Impressions, dtype: float64"
      ]
     },
     "execution_count": 34,
     "metadata": {},
     "output_type": "execute_result"
    }
   ],
   "source": [
    "grouped_impressions.mean() # Average impressions per cluster"
   ]
  },
  {
   "cell_type": "code",
   "execution_count": 35,
   "metadata": {},
   "outputs": [
    {
     "data": {
      "text/plain": [
       "Cluster\n",
       "0      4299\n",
       "1     16088\n",
       "2      5110\n",
       "3      2108\n",
       "4      3667\n",
       "5     11281\n",
       "6     31136\n",
       "7      7880\n",
       "8     18654\n",
       "9     13485\n",
       "10    22285\n",
       "11     3129\n",
       "Name: Clicks, dtype: int64"
      ]
     },
     "execution_count": 35,
     "metadata": {},
     "output_type": "execute_result"
    }
   ],
   "source": [
    "# Print clicks group by clusters\n",
    "grouped_clicks = search_term['Clicks'].groupby(search_term['Cluster']) # Group by cluster for aggregation purposes\n",
    "grouped_clicks.sum() # Sum clicks per cluster"
   ]
  },
  {
   "cell_type": "code",
   "execution_count": 36,
   "metadata": {},
   "outputs": [
    {
     "data": {
      "text/plain": [
       "Cluster\n",
       "0       9.012579\n",
       "1       9.827734\n",
       "2      11.181619\n",
       "3      12.114943\n",
       "4       9.354592\n",
       "5      29.000000\n",
       "6     170.142077\n",
       "7      17.949886\n",
       "8       5.389772\n",
       "9      30.578231\n",
       "10     71.655949\n",
       "11     14.900000\n",
       "Name: Clicks, dtype: float64"
      ]
     },
     "execution_count": 36,
     "metadata": {},
     "output_type": "execute_result"
    }
   ],
   "source": [
    "grouped_clicks.mean() # Average clicks per cluster"
   ]
  },
  {
   "cell_type": "code",
   "execution_count": 37,
   "metadata": {},
   "outputs": [
    {
     "data": {
      "text/plain": [
       "Cluster\n",
       "0      1503.61\n",
       "1     23756.69\n",
       "2      3801.46\n",
       "3      2041.59\n",
       "4      5731.81\n",
       "5     16623.71\n",
       "6     13931.26\n",
       "7      6445.89\n",
       "8     18510.45\n",
       "9     19174.52\n",
       "10     9309.78\n",
       "11     4304.34\n",
       "Name: Cost, dtype: float64"
      ]
     },
     "execution_count": 37,
     "metadata": {},
     "output_type": "execute_result"
    }
   ],
   "source": [
    "# Print cost group by clusters\n",
    "grouped_cost = search_term['Cost'].groupby(search_term['Cluster']) # Group by cluster for aggregation purposes\n",
    "grouped_cost.sum() # sum cost per cluster"
   ]
  },
  {
   "cell_type": "code",
   "execution_count": 38,
   "metadata": {},
   "outputs": [
    {
     "data": {
      "text/plain": [
       "Cluster\n",
       "0      3.152222\n",
       "1     14.512334\n",
       "2      8.318293\n",
       "3     11.733276\n",
       "4     14.621964\n",
       "5     42.734473\n",
       "6     76.127104\n",
       "7     14.683121\n",
       "8      5.348295\n",
       "9     43.479637\n",
       "10    29.934984\n",
       "11    20.496857\n",
       "Name: Cost, dtype: float64"
      ]
     },
     "execution_count": 38,
     "metadata": {},
     "output_type": "execute_result"
    }
   ],
   "source": [
    "grouped_cost.mean() # Average cost per cluster"
   ]
  },
  {
   "cell_type": "code",
   "execution_count": 40,
   "metadata": {
    "collapsed": true
   },
   "outputs": [],
   "source": [
    "# Create final table to show wordcloud\n",
    "# Join count table with search_term table\n",
    "df_final = search_term.join(count_df, lsuffix = '_search_term', rsuffix = '_count_df')\n",
    "\n",
    "# Use count multiply impressions to get total impression per term\n",
    "df_wordcloud = count_df.multiply(df_final['Impressions'],axis=0).join(df_final['Cluster'].to_frame())"
   ]
  },
  {
   "cell_type": "code",
   "execution_count": 41,
   "metadata": {
    "collapsed": true
   },
   "outputs": [],
   "source": [
    "# Set cluster as index\n",
    "df_wordcloud = df_wordcloud.set_index('Cluster')\n",
    "cluster0 = df_wordcloud[df_wordcloud.index ==0].sum(0).sort_values(ascending=False).dropna()\n",
    "cluster1 = df_wordcloud[df_wordcloud.index ==1].sum(0).sort_values(ascending=False).dropna()\n",
    "cluster2 = df_wordcloud[df_wordcloud.index ==2].sum(0).sort_values(ascending=False).dropna()\n",
    "cluster3 = df_wordcloud[df_wordcloud.index ==3].sum(0).sort_values(ascending=False).dropna()\n",
    "cluster4 = df_wordcloud[df_wordcloud.index ==4].sum(0).sort_values(ascending=False).dropna()\n",
    "cluster5 = df_wordcloud[df_wordcloud.index ==5].sum(0).sort_values(ascending=False).dropna()\n",
    "cluster6 = df_wordcloud[df_wordcloud.index ==6].sum(0).sort_values(ascending=False).dropna()\n",
    "cluster7 = df_wordcloud[df_wordcloud.index ==7].sum(0).sort_values(ascending=False).dropna()\n",
    "cluster8 = df_wordcloud[df_wordcloud.index ==8].sum(0).sort_values(ascending=False).dropna()\n",
    "cluster9 = df_wordcloud[df_wordcloud.index ==9].sum(0).sort_values(ascending=False).dropna()\n",
    "cluster10 = df_wordcloud[df_wordcloud.index ==10].sum(0).sort_values(ascending=False).dropna()\n",
    "cluster11 = df_wordcloud[df_wordcloud.index ==11].sum(0).sort_values(ascending=False).dropna()"
   ]
  },
  {
   "cell_type": "code",
   "execution_count": null,
   "metadata": {
    "collapsed": true
   },
   "outputs": [],
   "source": [
    "# Wordcloud\n",
    "from wordcloud import WordCloud, ImageColorGenerator\n",
    "from PIL import Image\n",
    "from collections import Counter\n",
    "\n",
    "mask = np.array(Image.open(\"smirnoff_bg.jpg\"))\n",
    "image_colors = ImageColorGenerator(mask)\n",
    "wc = WordCloud(background_color = \"white\", mask = mask, color_func = image_colors)\n",
    "wc.generate_from_frequencies(dict(np.log(cluster0+1.0001))) # Change cluster number to get wordcloud\n",
    "wc.to_file(\"cluster0.png\")"
   ]
  },
  {
   "cell_type": "code",
   "execution_count": 42,
   "metadata": {},
   "outputs": [
    {
     "name": "stdout",
     "output_type": "stream",
     "text": [
      "                            OLS Regression Results                            \n",
      "==============================================================================\n",
      "Dep. Variable:               Cost_log   R-squared:                       0.033\n",
      "Model:                            OLS   Adj. R-squared:                  0.032\n",
      "Method:                 Least Squares   F-statistic:                     26.52\n",
      "Date:                Tue, 02 Jan 2018   Prob (F-statistic):           4.82e-55\n",
      "Time:                        15:49:35   Log-Likelihood:                -12255.\n",
      "No. Observations:                8571   AIC:                         2.453e+04\n",
      "Df Residuals:                    8559   BIC:                         2.462e+04\n",
      "Df Model:                          11                                         \n",
      "Covariance Type:            nonrobust                                         \n",
      "=================================================================================\n",
      "                    coef    std err          t      P>|t|      [95.0% Conf. Int.]\n",
      "---------------------------------------------------------------------------------\n",
      "Intercept         0.5471      0.046     11.811      0.000         0.456     0.638\n",
      "Cluster[T.1]      0.3501      0.053      6.651      0.000         0.247     0.453\n",
      "Cluster[T.10]     0.3153      0.074      4.276      0.000         0.171     0.460\n",
      "Cluster[T.11]     0.3650      0.084      4.357      0.000         0.201     0.529\n",
      "Cluster[T.2]      0.4502      0.066      6.800      0.000         0.320     0.580\n",
      "Cluster[T.3]      0.7212      0.090      8.050      0.000         0.546     0.897\n",
      "Cluster[T.4]      0.1618      0.069      2.346      0.019         0.027     0.297\n",
      "Cluster[T.5]      0.6130      0.069      8.870      0.000         0.478     0.748\n",
      "Cluster[T.6]      0.2714      0.088      3.085      0.002         0.099     0.444\n",
      "Cluster[T.7]      0.4586      0.067      6.855      0.000         0.327     0.590\n",
      "Cluster[T.8]      0.3573      0.049      7.231      0.000         0.260     0.454\n",
      "Cluster[T.9]      0.9787      0.067     14.645      0.000         0.848     1.110\n",
      "==============================================================================\n",
      "Omnibus:                     4708.638   Durbin-Watson:                   1.973\n",
      "Prob(Omnibus):                  0.000   Jarque-Bera (JB):            42638.168\n",
      "Skew:                           2.506   Prob(JB):                         0.00\n",
      "Kurtosis:                      12.709   Cond. No.                         17.2\n",
      "==============================================================================\n",
      "\n",
      "Warnings:\n",
      "[1] Standard Errors assume that the covariance matrix of the errors is correctly specified.\n"
     ]
    }
   ],
   "source": [
    "# Run Regression model \n",
    "import statsmodels.formula.api as sm\n",
    "\n",
    "search_term['Cluster'] = search_term['Cluster'].astype('str')\n",
    "search_term['Cost_log'] = np.log(search_term['Cost']+1)\n",
    "\n",
    "result = sm.ols(formula = \"Cost_log ~ Cluster\", data = search_term).fit()\n",
    "print(result.summary())"
   ]
  }
 ],
 "metadata": {
  "kernelspec": {
   "display_name": "Python 3",
   "language": "python",
   "name": "python3"
  },
  "language_info": {
   "codemirror_mode": {
    "name": "ipython",
    "version": 3
   },
   "file_extension": ".py",
   "mimetype": "text/x-python",
   "name": "python",
   "nbconvert_exporter": "python",
   "pygments_lexer": "ipython3",
   "version": "3.6.1"
  }
 },
 "nbformat": 4,
 "nbformat_minor": 2
}
